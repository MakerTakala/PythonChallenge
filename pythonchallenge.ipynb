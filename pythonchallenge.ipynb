{
  "nbformat": 4,
  "nbformat_minor": 0,
  "metadata": {
    "colab": {
      "name": "pythonchallenge.ipynb",
      "provenance": [],
      "collapsed_sections": [
        "Z-TUwD95VvfQ",
        "93PP4DJQWQuO",
        "ey-QPhdzc5Lt"
      ],
      "authorship_tag": "ABX9TyNCPsk4nMmGv63geOJQHfVE",
      "include_colab_link": true
    },
    "kernelspec": {
      "name": "python3",
      "display_name": "Python 3"
    },
    "language_info": {
      "name": "python"
    }
  },
  "cells": [
    {
      "cell_type": "markdown",
      "metadata": {
        "id": "view-in-github",
        "colab_type": "text"
      },
      "source": [
        "<a href=\"https://colab.research.google.com/github/MakerTakala/PythonChallenge/blob/main/pythonchallenge.ipynb\" target=\"_parent\"><img src=\"https://colab.research.google.com/assets/colab-badge.svg\" alt=\"Open In Colab\"/></a>"
      ]
    },
    {
      "cell_type": "markdown",
      "metadata": {
        "id": "Z-TUwD95VvfQ"
      },
      "source": [
        "#0"
      ]
    },
    {
      "cell_type": "markdown",
      "metadata": {
        "id": "RxFmEhN5WPg_"
      },
      "source": [
        "http://www.pythonchallenge.com/pc/def/0.html"
      ]
    },
    {
      "cell_type": "code",
      "metadata": {
        "colab": {
          "base_uri": "https://localhost:8080/"
        },
        "id": "ucjH-HktVwgd",
        "outputId": "9d390c10-625c-489e-9ba6-0ef04c20d45a"
      },
      "source": [
        "print(pow(2, 38))"
      ],
      "execution_count": null,
      "outputs": [
        {
          "output_type": "stream",
          "name": "stdout",
          "text": [
            "274877906944\n"
          ]
        }
      ]
    },
    {
      "cell_type": "markdown",
      "metadata": {
        "id": "93PP4DJQWQuO"
      },
      "source": [
        "#1"
      ]
    },
    {
      "cell_type": "markdown",
      "metadata": {
        "id": "7UAxSuVNWISe"
      },
      "source": [
        "http://www.pythonchallenge.com/pc/def/map.html"
      ]
    },
    {
      "cell_type": "code",
      "metadata": {
        "colab": {
          "base_uri": "https://localhost:8080/"
        },
        "id": "9X7h9mLXZe8a",
        "outputId": "db1bf8c7-d2c6-4120-e7d0-89ad5086b39b"
      },
      "source": [
        "c = \"g fmnc wms bgblr rpylqjyrc gr zw fylb. rfyrq ufyr amknsrcpq ypc dmp. bmgle gr gl zw fylb gq glcddgagclr ylb rfyr'q ufw rfgq rcvr gq qm jmle. sqgle qrpgle.kyicrpylq() gq pcamkkclbcb. lmu ynnjw ml rfc spj.\"\n",
        "flag = \"\"\n",
        "for _ in c:\n",
        "  if _.isalpha():\n",
        "    flag += chr((ord(_) - ord('a') + 2) % 26 + ord('a'))\n",
        "  else:\n",
        "    flag += _\n",
        "print(flag)"
      ],
      "execution_count": null,
      "outputs": [
        {
          "output_type": "stream",
          "name": "stdout",
          "text": [
            "i hope you didnt translate it by hand. thats what computers are for. doing it in by hand is inefficient and that's why this text is so long. using string.maketrans() is recommended. now apply on the url.\n"
          ]
        }
      ]
    },
    {
      "cell_type": "code",
      "metadata": {
        "colab": {
          "base_uri": "https://localhost:8080/"
        },
        "id": "naoSPMCmb3J8",
        "outputId": "c7df0536-c31d-4872-abb9-fc191cf8d8e7"
      },
      "source": [
        "c = \"map\"\n",
        "flag = \"\"\n",
        "for _ in c:\n",
        "  flag += chr((ord(_) - ord('a') + 2) % 26 + ord('a'))\n",
        "print(flag)"
      ],
      "execution_count": null,
      "outputs": [
        {
          "output_type": "stream",
          "name": "stdout",
          "text": [
            "ocr\n"
          ]
        }
      ]
    },
    {
      "cell_type": "markdown",
      "metadata": {
        "id": "ey-QPhdzc5Lt"
      },
      "source": [
        "#2"
      ]
    },
    {
      "cell_type": "markdown",
      "metadata": {
        "id": "tPnkDBIfdN5Q"
      },
      "source": [
        "http://www.pythonchallenge.com/pc/def/ocr.html"
      ]
    },
    {
      "cell_type": "code",
      "metadata": {
        "id": "Wm86QpeVc8vp"
      },
      "source": [
        "c = open('text.txt').read()\n",
        "flag = \"\"\n",
        "for _ in c:\n",
        "  if _.isalpha():\n",
        "    flag += _\n",
        "print(flag)"
      ],
      "execution_count": null,
      "outputs": []
    },
    {
      "cell_type": "markdown",
      "metadata": {
        "id": "7DnaA6X3xTpv"
      },
      "source": [
        "#3"
      ]
    },
    {
      "cell_type": "markdown",
      "metadata": {
        "id": "_OzYd_EGxVaE"
      },
      "source": [
        "http://www.pythonchallenge.com/pc/def/equality.html"
      ]
    },
    {
      "cell_type": "code",
      "metadata": {
        "id": "STAEW_7v19LH"
      },
      "source": [
        "import re\n",
        "c = open('text.txt').read()\n",
        "flag = re.findall(\"[a-z]+[A-Z]{3}([a-z])[A-Z]{3}[a-z]\",c)\n",
        "ans = \"\".join(flag)\n",
        "print(ans)"
      ],
      "execution_count": null,
      "outputs": []
    },
    {
      "cell_type": "markdown",
      "metadata": {
        "id": "kn_XImfu2Kg4"
      },
      "source": [
        "#4"
      ]
    },
    {
      "cell_type": "markdown",
      "metadata": {
        "id": "e27RYfgk2MdE"
      },
      "source": [
        "http://www.pythonchallenge.com/pc/def/linkedlist.php"
      ]
    },
    {
      "cell_type": "markdown",
      "metadata": {
        "id": "mI3lbQYIDEBn"
      },
      "source": [
        "Pay attention to the spot \"16044\" \"82682\" \"66831\"-> ans!!!"
      ]
    },
    {
      "cell_type": "code",
      "metadata": {
        "id": "Hb8-O1Fr2NFg"
      },
      "source": [
        "import urllib.request\n",
        "import bs4\n",
        "import re\n",
        "\n",
        "def findurl(preurl):\n",
        "    url = \"http://www.pythonchallenge.com/pc/def/linkedlist.php?nothing=\" + preurl\n",
        "    with urllib.request.urlopen(url) as response:\n",
        "      text = str(bs4.BeautifulSoup(response,\"html.parser\"))\n",
        "    print(text)\n",
        "    nxturl = \"\".join([x for x in text if x.isdigit()])\n",
        "    return nxturl[-5:]\n",
        "\n",
        "url = \"12345\"\n",
        "while True:\n",
        "    print(u)\n",
        "    u = findurl(url)\n"
      ],
      "execution_count": null,
      "outputs": []
    },
    {
      "cell_type": "markdown",
      "metadata": {
        "id": "jtDAtkxVIzni"
      },
      "source": [
        "#5"
      ]
    },
    {
      "cell_type": "markdown",
      "metadata": {
        "id": "I8eNeMGogE_1"
      },
      "source": [
        "http://www.pythonchallenge.com/pc/def/peak.html"
      ]
    },
    {
      "cell_type": "code",
      "metadata": {
        "id": "c-cYN6mqI1iE"
      },
      "source": [
        "import urllib.request\n",
        "import pickle\n",
        "\n",
        "url = \"http://www.pythonchallenge.com/pc/def/banner.p\"\n",
        "with urllib.request.urlopen(url) as response:\n",
        "    data = pickle.load(response)\n",
        "for row in data:\n",
        "    for d in row:\n",
        "        for _ in range(d[1]):\n",
        "            print(d[0], end = \"\")\n",
        "    print(\"\")"
      ],
      "execution_count": null,
      "outputs": []
    },
    {
      "cell_type": "markdown",
      "metadata": {
        "id": "wijTPI_kgIFW"
      },
      "source": [
        "#6"
      ]
    },
    {
      "cell_type": "markdown",
      "metadata": {
        "id": "o8NLbnc_gJmB"
      },
      "source": [
        "http://www.pythonchallenge.com/pc/def/peak.html"
      ]
    },
    {
      "cell_type": "code",
      "metadata": {
        "id": "iCfLB5nTgLus"
      },
      "source": [
        ""
      ],
      "execution_count": null,
      "outputs": []
    }
  ]
}